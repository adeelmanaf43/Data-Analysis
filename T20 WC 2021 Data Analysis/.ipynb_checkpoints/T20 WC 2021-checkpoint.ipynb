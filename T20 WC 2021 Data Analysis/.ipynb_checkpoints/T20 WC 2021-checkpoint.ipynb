{
 "cells": [
  {
   "cell_type": "markdown",
   "id": "16ccd70a",
   "metadata": {},
   "source": [
    "## <center> T20 WC 2021 Data Analysis </center>"
   ]
  },
  {
   "cell_type": "code",
   "execution_count": 1,
   "id": "f7936b4c",
   "metadata": {},
   "outputs": [],
   "source": [
    "#Importing required libraries\n",
    "import pandas as pd\n",
    "import matplotlib.pyplot as plt\n",
    "import seaborn as sns\n",
    "import numpy as np"
   ]
  },
  {
   "cell_type": "code",
   "execution_count": 2,
   "id": "3d791939",
   "metadata": {},
   "outputs": [
    {
     "data": {
      "text/html": [
       "<div>\n",
       "<style scoped>\n",
       "    .dataframe tbody tr th:only-of-type {\n",
       "        vertical-align: middle;\n",
       "    }\n",
       "\n",
       "    .dataframe tbody tr th {\n",
       "        vertical-align: top;\n",
       "    }\n",
       "\n",
       "    .dataframe thead th {\n",
       "        text-align: right;\n",
       "    }\n",
       "</style>\n",
       "<table border=\"1\" class=\"dataframe\">\n",
       "  <thead>\n",
       "    <tr style=\"text-align: right;\">\n",
       "      <th></th>\n",
       "      <th>team_1</th>\n",
       "      <th>team_2</th>\n",
       "      <th>stage</th>\n",
       "      <th>Winner_toss</th>\n",
       "      <th>Toss_descision</th>\n",
       "      <th>time</th>\n",
       "      <th>venue</th>\n",
       "      <th>avg_temperature</th>\n",
       "      <th>best_bowler</th>\n",
       "      <th>bowling_arm</th>\n",
       "      <th>...</th>\n",
       "      <th>best_bowler_country</th>\n",
       "      <th>best_batter</th>\n",
       "      <th>batting_hand</th>\n",
       "      <th>high_indvidual_scores</th>\n",
       "      <th>strike_rate</th>\n",
       "      <th>best_batter_team</th>\n",
       "      <th>target</th>\n",
       "      <th>target_achieved</th>\n",
       "      <th>Player_of_the_match</th>\n",
       "      <th>Winner</th>\n",
       "    </tr>\n",
       "  </thead>\n",
       "  <tbody>\n",
       "    <tr>\n",
       "      <th>0</th>\n",
       "      <td>Australia</td>\n",
       "      <td>SouthAfrica</td>\n",
       "      <td>Group_stage</td>\n",
       "      <td>Australia</td>\n",
       "      <td>Fielding</td>\n",
       "      <td>afternoon</td>\n",
       "      <td>Abu_Dhabi</td>\n",
       "      <td>30</td>\n",
       "      <td>Josh_Hazlewood</td>\n",
       "      <td>Right</td>\n",
       "      <td>...</td>\n",
       "      <td>Australia</td>\n",
       "      <td>Aiden_Markram</td>\n",
       "      <td>Right</td>\n",
       "      <td>40</td>\n",
       "      <td>111.10</td>\n",
       "      <td>SouthAfrica</td>\n",
       "      <td>119</td>\n",
       "      <td>1</td>\n",
       "      <td>Josh_Hazlewood</td>\n",
       "      <td>Australia</td>\n",
       "    </tr>\n",
       "    <tr>\n",
       "      <th>1</th>\n",
       "      <td>England</td>\n",
       "      <td>Windies</td>\n",
       "      <td>Group_stage</td>\n",
       "      <td>England</td>\n",
       "      <td>Fielding</td>\n",
       "      <td>evening</td>\n",
       "      <td>Dubai</td>\n",
       "      <td>33</td>\n",
       "      <td>Adil_Rashid</td>\n",
       "      <td>Right</td>\n",
       "      <td>...</td>\n",
       "      <td>England</td>\n",
       "      <td>Jos_Buttler</td>\n",
       "      <td>Right</td>\n",
       "      <td>24</td>\n",
       "      <td>109.10</td>\n",
       "      <td>England</td>\n",
       "      <td>56</td>\n",
       "      <td>1</td>\n",
       "      <td>Moeen_Ali</td>\n",
       "      <td>England</td>\n",
       "    </tr>\n",
       "    <tr>\n",
       "      <th>2</th>\n",
       "      <td>Srilanka</td>\n",
       "      <td>Bangladesh</td>\n",
       "      <td>Group_stage</td>\n",
       "      <td>Srilanka</td>\n",
       "      <td>Fielding</td>\n",
       "      <td>afternoon</td>\n",
       "      <td>Sharjah</td>\n",
       "      <td>34</td>\n",
       "      <td>Shakib_al_Hassan</td>\n",
       "      <td>Left</td>\n",
       "      <td>...</td>\n",
       "      <td>Bangladesh</td>\n",
       "      <td>Charith_Asalanka</td>\n",
       "      <td>Left</td>\n",
       "      <td>80</td>\n",
       "      <td>163.20</td>\n",
       "      <td>Srilanka</td>\n",
       "      <td>172</td>\n",
       "      <td>1</td>\n",
       "      <td>Charith_Asalanka</td>\n",
       "      <td>Srilanka</td>\n",
       "    </tr>\n",
       "    <tr>\n",
       "      <th>3</th>\n",
       "      <td>Pakistan</td>\n",
       "      <td>India</td>\n",
       "      <td>Group_stage</td>\n",
       "      <td>Pakistan</td>\n",
       "      <td>Fielding</td>\n",
       "      <td>evening</td>\n",
       "      <td>Dubai</td>\n",
       "      <td>34</td>\n",
       "      <td>Shaheen_shah</td>\n",
       "      <td>Left</td>\n",
       "      <td>...</td>\n",
       "      <td>Pakistan</td>\n",
       "      <td>Muhammad_Rizwan</td>\n",
       "      <td>Right</td>\n",
       "      <td>79</td>\n",
       "      <td>143.60</td>\n",
       "      <td>Pakistan</td>\n",
       "      <td>152</td>\n",
       "      <td>1</td>\n",
       "      <td>Shaheen_shah</td>\n",
       "      <td>Pakistan</td>\n",
       "    </tr>\n",
       "    <tr>\n",
       "      <th>4</th>\n",
       "      <td>Afghanistan</td>\n",
       "      <td>Scotland</td>\n",
       "      <td>Group_stage</td>\n",
       "      <td>Afghanistan</td>\n",
       "      <td>Batting</td>\n",
       "      <td>evening</td>\n",
       "      <td>Sharjah</td>\n",
       "      <td>33</td>\n",
       "      <td>Mujeeb_ur_Rehman</td>\n",
       "      <td>Right</td>\n",
       "      <td>...</td>\n",
       "      <td>Afghanistan</td>\n",
       "      <td>Najibullah_Zadran</td>\n",
       "      <td>Left</td>\n",
       "      <td>59</td>\n",
       "      <td>173.53</td>\n",
       "      <td>Afghanistan</td>\n",
       "      <td>191</td>\n",
       "      <td>0</td>\n",
       "      <td>Mujeeb_ur_Rehman</td>\n",
       "      <td>Afghanistan</td>\n",
       "    </tr>\n",
       "  </tbody>\n",
       "</table>\n",
       "<p>5 rows × 23 columns</p>\n",
       "</div>"
      ],
      "text/plain": [
       "        team_1       team_2        stage  Winner_toss Toss_descision  \\\n",
       "0    Australia  SouthAfrica  Group_stage    Australia       Fielding   \n",
       "1      England      Windies  Group_stage      England       Fielding   \n",
       "2     Srilanka   Bangladesh  Group_stage     Srilanka       Fielding   \n",
       "3     Pakistan        India  Group_stage     Pakistan       Fielding   \n",
       "4  Afghanistan     Scotland  Group_stage  Afghanistan        Batting   \n",
       "\n",
       "        time      venue  avg_temperature       best_bowler bowling_arm  ...  \\\n",
       "0  afternoon  Abu_Dhabi               30    Josh_Hazlewood       Right  ...   \n",
       "1    evening      Dubai               33       Adil_Rashid       Right  ...   \n",
       "2  afternoon    Sharjah               34  Shakib_al_Hassan        Left  ...   \n",
       "3    evening      Dubai               34      Shaheen_shah        Left  ...   \n",
       "4    evening    Sharjah               33  Mujeeb_ur_Rehman       Right  ...   \n",
       "\n",
       "  best_bowler_country        best_batter  batting_hand high_indvidual_scores  \\\n",
       "0           Australia      Aiden_Markram         Right                    40   \n",
       "1             England        Jos_Buttler         Right                    24   \n",
       "2          Bangladesh   Charith_Asalanka          Left                    80   \n",
       "3            Pakistan    Muhammad_Rizwan         Right                    79   \n",
       "4         Afghanistan  Najibullah_Zadran          Left                    59   \n",
       "\n",
       "  strike_rate best_batter_team  target  target_achieved Player_of_the_match  \\\n",
       "0      111.10      SouthAfrica     119                1      Josh_Hazlewood   \n",
       "1      109.10          England      56                1           Moeen_Ali   \n",
       "2      163.20         Srilanka     172                1    Charith_Asalanka   \n",
       "3      143.60         Pakistan     152                1        Shaheen_shah   \n",
       "4      173.53      Afghanistan     191                0    Mujeeb_ur_Rehman   \n",
       "\n",
       "        Winner  \n",
       "0    Australia  \n",
       "1      England  \n",
       "2     Srilanka  \n",
       "3     Pakistan  \n",
       "4  Afghanistan  \n",
       "\n",
       "[5 rows x 23 columns]"
      ]
     },
     "execution_count": 2,
     "metadata": {},
     "output_type": "execute_result"
    }
   ],
   "source": [
    "#reading data\n",
    "cricket = pd.read_csv(\"Data/kaggle_data.csv\")\n",
    "cricket = cricket.drop(columns = \"Unnamed: 0\")\n",
    "cricket.head()"
   ]
  },
  {
   "cell_type": "code",
   "execution_count": 3,
   "id": "d8559da6",
   "metadata": {},
   "outputs": [
    {
     "data": {
      "image/png": "[encoded data removed]",
      "text/plain": [
       "<Figure size 720x360 with 1 Axes>"
      ]
     },
     "metadata": {},
     "output_type": "display_data"
    }
   ],
   "source": [
    "#checking how many teams won chasing the target\n",
    "sns.set_style(\"darkgrid\")\n",
    "plt.figure(figsize = (10, 5))\n",
    "sns.countplot(x = \"target_achieved\", data = cricket)\n",
    "plt.title(\"Target Achieved Distribution\", fontsize = 20)\n",
    "plt.show()"
   ]
  },
  {
   "cell_type": "markdown",
   "id": "c1933ea0",
   "metadata": {},
   "source": [
    "It looks like chasing teams has clear advantage as compare to the teams who bat first. Out of 33 matches, 23 are won by chasing teams and only 10 are won by team who bat first. Now I will explore whether the timing of the match also plays an important role in favoring the chasing team or team who bats first or not."
   ]
  },
  {
   "cell_type": "code",
   "execution_count": 4,
   "id": "7f2b4bf6",
   "metadata": {},
   "outputs": [
    {
     "data": {
      "image/png": "[encoded data removed]",
      "text/plain": [
       "<Figure size 720x360 with 1 Axes>"
      ]
     },
     "metadata": {},
     "output_type": "display_data"
    }
   ],
   "source": [
    "sns.set_style(\"darkgrid\")\n",
    "plt.figure(figsize = (10, 5))\n",
    "sns.countplot(x = \"target_achieved\", hue = \"time\", data = cricket)\n",
    "plt.title(\"Target Achieved Distribution by Time\", fontsize = 20)\n",
    "plt.show()"
   ]
  },
  {
   "cell_type": "markdown",
   "id": "8899fd93",
   "metadata": {},
   "source": [
    "From above plot, it looks like irrespective of the time of match chasing team has clear cut advantage in T20 Wc 2021. Now, I will explore the tos winner and what decision they made after winning the toss."
   ]
  },
  {
   "cell_type": "code",
   "execution_count": 5,
   "id": "719e7daa",
   "metadata": {},
   "outputs": [
    {
     "data": {
      "image/png": "[encoded data removed]",
      "text/plain": [
       "<Figure size 720x360 with 1 Axes>"
      ]
     },
     "metadata": {},
     "output_type": "display_data"
    }
   ],
   "source": [
    "plt.figure(figsize = (10, 5))\n",
    "sns.countplot(x = \"Toss_descision\", data = cricket)\n",
    "plt.title(\"Target Achieved Distribution by Time\", fontsize = 20)\n",
    "plt.show()"
   ]
  },
  {
   "cell_type": "markdown",
   "id": "8031c747",
   "metadata": {},
   "source": [
    "Out of 33 matches 26 teams deciding to bowl first after winning the toss and only 7 teams decided to bat first. Now I will check whether the timing of the match plays a role in deciding bat first or field first or not."
   ]
  },
  {
   "cell_type": "code",
   "execution_count": 6,
   "id": "9f389870",
   "metadata": {},
   "outputs": [
    {
     "data": {
      "image/png": "[encoded data removed]",
      "text/plain": [
       "<Figure size 720x360 with 1 Axes>"
      ]
     },
     "metadata": {},
     "output_type": "display_data"
    }
   ],
   "source": [
    "plt.figure(figsize = (10, 5))\n",
    "sns.countplot(x = \"Toss_descision\", hue = \"time\", data = cricket)\n",
    "plt.title(\"Target Achieved Distribution by Time\", fontsize = 20)\n",
    "plt.show()"
   ]
  },
  {
   "cell_type": "markdown",
   "id": "7ee8709c",
   "metadata": {},
   "source": [
    "There is no clear pattern between timing of the match and whether they decided to bowl first or bat first."
   ]
  },
  {
   "cell_type": "code",
   "execution_count": 7,
   "id": "9cb921b7",
   "metadata": {},
   "outputs": [
    {
     "data": {
      "text/html": [
       "<div>\n",
       "<style scoped>\n",
       "    .dataframe tbody tr th:only-of-type {\n",
       "        vertical-align: middle;\n",
       "    }\n",
       "\n",
       "    .dataframe tbody tr th {\n",
       "        vertical-align: top;\n",
       "    }\n",
       "\n",
       "    .dataframe thead th {\n",
       "        text-align: right;\n",
       "    }\n",
       "</style>\n",
       "<table border=\"1\" class=\"dataframe\">\n",
       "  <thead>\n",
       "    <tr style=\"text-align: right;\">\n",
       "      <th></th>\n",
       "      <th>team_1</th>\n",
       "      <th>team_2</th>\n",
       "      <th>stage</th>\n",
       "      <th>Winner_toss</th>\n",
       "      <th>Toss_descision</th>\n",
       "      <th>time</th>\n",
       "      <th>venue</th>\n",
       "      <th>avg_temperature</th>\n",
       "      <th>best_bowler</th>\n",
       "      <th>bowling_arm</th>\n",
       "      <th>...</th>\n",
       "      <th>best_bowler_country</th>\n",
       "      <th>best_batter</th>\n",
       "      <th>batting_hand</th>\n",
       "      <th>high_indvidual_scores</th>\n",
       "      <th>strike_rate</th>\n",
       "      <th>best_batter_team</th>\n",
       "      <th>target</th>\n",
       "      <th>target_achieved</th>\n",
       "      <th>Player_of_the_match</th>\n",
       "      <th>Winner</th>\n",
       "    </tr>\n",
       "  </thead>\n",
       "  <tbody>\n",
       "    <tr>\n",
       "      <th>0</th>\n",
       "      <td>Australia</td>\n",
       "      <td>SouthAfrica</td>\n",
       "      <td>Group_stage</td>\n",
       "      <td>Australia</td>\n",
       "      <td>Fielding</td>\n",
       "      <td>afternoon</td>\n",
       "      <td>Abu_Dhabi</td>\n",
       "      <td>30</td>\n",
       "      <td>Josh_Hazlewood</td>\n",
       "      <td>Right</td>\n",
       "      <td>...</td>\n",
       "      <td>Australia</td>\n",
       "      <td>Aiden_Markram</td>\n",
       "      <td>Right</td>\n",
       "      <td>40</td>\n",
       "      <td>111.1</td>\n",
       "      <td>SouthAfrica</td>\n",
       "      <td>119</td>\n",
       "      <td>1</td>\n",
       "      <td>Josh_Hazlewood</td>\n",
       "      <td>Australia</td>\n",
       "    </tr>\n",
       "    <tr>\n",
       "      <th>1</th>\n",
       "      <td>England</td>\n",
       "      <td>Windies</td>\n",
       "      <td>Group_stage</td>\n",
       "      <td>England</td>\n",
       "      <td>Fielding</td>\n",
       "      <td>evening</td>\n",
       "      <td>Dubai</td>\n",
       "      <td>33</td>\n",
       "      <td>Adil_Rashid</td>\n",
       "      <td>Right</td>\n",
       "      <td>...</td>\n",
       "      <td>England</td>\n",
       "      <td>Jos_Buttler</td>\n",
       "      <td>Right</td>\n",
       "      <td>24</td>\n",
       "      <td>109.1</td>\n",
       "      <td>England</td>\n",
       "      <td>56</td>\n",
       "      <td>1</td>\n",
       "      <td>Moeen_Ali</td>\n",
       "      <td>England</td>\n",
       "    </tr>\n",
       "    <tr>\n",
       "      <th>2</th>\n",
       "      <td>Srilanka</td>\n",
       "      <td>Bangladesh</td>\n",
       "      <td>Group_stage</td>\n",
       "      <td>Srilanka</td>\n",
       "      <td>Fielding</td>\n",
       "      <td>afternoon</td>\n",
       "      <td>Sharjah</td>\n",
       "      <td>34</td>\n",
       "      <td>Shakib_al_Hassan</td>\n",
       "      <td>Left</td>\n",
       "      <td>...</td>\n",
       "      <td>Bangladesh</td>\n",
       "      <td>Charith_Asalanka</td>\n",
       "      <td>Left</td>\n",
       "      <td>80</td>\n",
       "      <td>163.2</td>\n",
       "      <td>Srilanka</td>\n",
       "      <td>172</td>\n",
       "      <td>1</td>\n",
       "      <td>Charith_Asalanka</td>\n",
       "      <td>Srilanka</td>\n",
       "    </tr>\n",
       "  </tbody>\n",
       "</table>\n",
       "<p>3 rows × 23 columns</p>\n",
       "</div>"
      ],
      "text/plain": [
       "      team_1       team_2        stage Winner_toss Toss_descision       time  \\\n",
       "0  Australia  SouthAfrica  Group_stage   Australia       Fielding  afternoon   \n",
       "1    England      Windies  Group_stage     England       Fielding    evening   \n",
       "2   Srilanka   Bangladesh  Group_stage    Srilanka       Fielding  afternoon   \n",
       "\n",
       "       venue  avg_temperature       best_bowler bowling_arm  ...  \\\n",
       "0  Abu_Dhabi               30    Josh_Hazlewood       Right  ...   \n",
       "1      Dubai               33       Adil_Rashid       Right  ...   \n",
       "2    Sharjah               34  Shakib_al_Hassan        Left  ...   \n",
       "\n",
       "  best_bowler_country       best_batter  batting_hand high_indvidual_scores  \\\n",
       "0           Australia     Aiden_Markram         Right                    40   \n",
       "1             England       Jos_Buttler         Right                    24   \n",
       "2          Bangladesh  Charith_Asalanka          Left                    80   \n",
       "\n",
       "  strike_rate best_batter_team  target  target_achieved Player_of_the_match  \\\n",
       "0       111.1      SouthAfrica     119                1      Josh_Hazlewood   \n",
       "1       109.1          England      56                1           Moeen_Ali   \n",
       "2       163.2         Srilanka     172                1    Charith_Asalanka   \n",
       "\n",
       "      Winner  \n",
       "0  Australia  \n",
       "1    England  \n",
       "2   Srilanka  \n",
       "\n",
       "[3 rows x 23 columns]"
      ]
     },
     "execution_count": 7,
     "metadata": {},
     "output_type": "execute_result"
    }
   ],
   "source": [
    "cricket.head(3)"
   ]
  },
  {
   "cell_type": "markdown",
   "id": "0a56d9dc",
   "metadata": {},
   "source": [
    "Now I will check whether the man of the match is either the best bowler or best batsman from the match or not."
   ]
  },
  {
   "cell_type": "code",
   "execution_count": 8,
   "id": "01b41c51",
   "metadata": {},
   "outputs": [],
   "source": [
    "def parse():\n",
    "    pom = []\n",
    "    for i in range(cricket.shape[0]):\n",
    "        if cricket[\"best_bowler\"][i] == cricket[\"Player_of_the_match\"][i]:\n",
    "            pom.append(\"best bowler\")\n",
    "        elif cricket[\"best_batter\"][i] == cricket[\"Player_of_the_match\"][i]:\n",
    "            pom.append('best better')\n",
    "        else:\n",
    "            pom.append(\"other\")\n",
    "    return pom\n",
    "potm = parse()\n",
    "cricket[\"potm\"] = potm"
   ]
  },
  {
   "cell_type": "code",
   "execution_count": 9,
   "id": "344d033f",
   "metadata": {},
   "outputs": [
    {
     "data": {
      "image/png": "[encoded data removed]",
      "text/plain": [
       "<Figure size 720x360 with 1 Axes>"
      ]
     },
     "metadata": {},
     "output_type": "display_data"
    }
   ],
   "source": [
    "plt.figure(figsize = (10, 5))\n",
    "sns.countplot(x = \"potm\", data = cricket)\n",
    "plt.title(\"Player of the Match\", fontsize = 20)\n",
    "plt.show()"
   ]
  },
  {
   "cell_type": "markdown",
   "id": "8a38d239",
   "metadata": {},
   "source": [
    "From above plot, it can be seen that in most of the matches the Player of the match is not best bowler or best batter. In 12 matches the Player of tha match is best boweler and in only 12 matches the player of the match is best batter."
   ]
  }
 ],
 "metadata": {
  "kernelspec": {
   "display_name": "Python 3 (ipykernel)",
   "language": "python",
   "name": "python3"
  },
  "language_info": {
   "codemirror_mode": {
    "name": "ipython",
    "version": 3
   },
   "file_extension": ".py",
   "mimetype": "text/x-python",
   "name": "python",
   "nbconvert_exporter": "python",
   "pygments_lexer": "ipython3",
   "version": "3.9.12"
  }
 },
 "nbformat": 4,
 "nbformat_minor": 5
}
